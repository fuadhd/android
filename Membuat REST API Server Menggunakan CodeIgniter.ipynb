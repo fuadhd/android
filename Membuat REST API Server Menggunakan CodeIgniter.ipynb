{
  "nbformat": 4,
  "nbformat_minor": 0,
  "metadata": {
    "colab": {
      "name": "Untitled1.ipynb",
      "provenance": []
    },
    "kernelspec": {
      "name": "python3",
      "display_name": "Python 3"
    }
  },
  "cells": [
    {
      "cell_type": "code",
      "metadata": {
        "id": "qtWlM7Y4PfZG",
        "colab_type": "code",
        "colab": {}
      },
      "source": [
        ""
      ],
      "execution_count": 0,
      "outputs": []
    },
    {
      "cell_type": "markdown",
      "metadata": {
        "id": "WYTgfCzgYzDd",
        "colab_type": "text"
      },
      "source": [
        "# **Membuat REST API Server Menggunakan CodeIgniter**\n",
        "Untuk membuat REST API Server CodeIgniter komponen yang perlu disiapkan yaitu CodeIgniter itu sendiri dan sebuah library REST Server. Untuk mempersingkat waktu, saya menggunakan repository [ardisaurus/ci-restserver](https://github.com/ardisaurus/ci-restserver), disini sudah terinstal CodeIgniter beserta library REST Servernya.\n",
        "\n",
        "## **Langkah-langkah Pembuatan**\n",
        "1.   Nyalakan Apache & MySQL pada XAMPP.\n",
        "2.   Unduh dan ekstrak repositori diatas ke folder htdocs. Ganti nama folder menjadi **rest_ci**.\n",
        "3.   Untuk mengecek apakah sudah terinstal dengan baik, buka url pada browser Anda http://localhost/rest_ci/index.php/rest_server. Maka akan muncul tampilan seperti dibawah ini.\n",
        "![REST Server Test](https://static.cdn-cdpl.com/source/18844/1_restserver.png)"
      ]
    }
  ]
}