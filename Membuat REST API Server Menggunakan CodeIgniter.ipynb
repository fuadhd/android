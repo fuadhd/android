{
  "nbformat": 4,
  "nbformat_minor": 0,
  "metadata": {
    "colab": {
      "name": "Untitled1.ipynb",
      "provenance": [],
      "collapsed_sections": []
    },
    "kernelspec": {
      "name": "python3",
      "display_name": "Python 3"
    }
  },
  "cells": [
    {
      "cell_type": "markdown",
      "metadata": {
        "id": "WYTgfCzgYzDd",
        "colab_type": "text"
      },
      "source": [
        "# **Membuat REST API Server Menggunakan CodeIgniter**\n",
        "Untuk membuat REST API Server CodeIgniter komponen yang perlu disiapkan yaitu CodeIgniter itu sendiri dan sebuah library REST Server. Untuk mempersingkat waktu, saya menggunakan repository [ardisaurus/ci-restserver](https://github.com/ardisaurus/ci-restserver), disini sudah terinstal CodeIgniter beserta library REST Servernya.\n",
        "\n",
        "## **Langkah-langkah Pembuatan**\n",
        "Sebelum masuk ke pembuatan, ada beberap tahapan persiapan awal yang perlu dilakukan.\n",
        "### **Persiapan Awal**\n",
        "Nyalakan Apache & MySQL pada XAMPP. Unduh dan ekstrak repositori diatas ke folder htdocs. Ganti nama folder menjadi **rest_ci**.\n",
        "\n",
        "Untuk mengecek apakah sudah terinstal dengan baik, buka url pada browser Anda http://localhost/rest_ci/index.php/rest_server. Maka akan muncul tampilan seperti dibawah ini.\n",
        "\n",
        "![REST Server Test](https://static.cdn-cdpl.com/source/18844/1_restserver.png)\n",
        "### **Konfigurasi Database**\n",
        "Buat database baru dan beri nama **retrofit**.\n",
        "```\n",
        "CREATE DATABASE retrofit;\n",
        "```"
      ]
    },
    {
      "cell_type": "markdown",
      "metadata": {
        "id": "Aehdm0AVKL8Y",
        "colab_type": "text"
      },
      "source": [
        "Buat tabel baru dan beri nama **telepon**.\n",
        "```\n",
        "USE retrofit;\n",
        "CREATE TABLE IF NOT EXISTS `telepon` (\n",
        "  `id` int(11) NOT NULL AUTO_INCREMENT,\n",
        "  `nama` varchar(50) NOT NULL,\n",
        "  `nomor` varchar(13) NOT NULL,\n",
        "  `foto` varchar(255),\n",
        "  PRIMARY KEY (`id`)\n",
        ") ENGINE=InnoDB  DEFAULT CHARSET=latin1 AUTO_INCREMENT=8;\n",
        "```\n"
      ]
    },
    {
      "cell_type": "markdown",
      "metadata": {
        "id": "4bcgn2_TISem",
        "colab_type": "text"
      },
      "source": [
        "### **Konfigurasi File**\n",
        "Buka file **applications/config/config.php**, lalu edit kodingan baris 26 seperti dibawah ini.\n",
        "```\n",
        "$config['base_url'] = 'http://192.168.43.225/rest_ci/';\n",
        "```"
      ]
    },
    {
      "cell_type": "markdown",
      "metadata": {
        "id": "I9HB_ATHIQo1",
        "colab_type": "text"
      },
      "source": [
        "Perhatikan bahwa **192.168.43.225** merupakan alamat IP komputer Anda. Dan **rest_ci** merupakan nama folder CodeIgniter. Lalu buka file **applications/config/database.php**, lalu edit kodingan baris 78-81 seperti dibawah ini.\n",
        "```\n",
        "'hostname' => 'localhost',\n",
        "'username' => 'root',\n",
        "'password' => '',\n",
        "'database' => 'retrofit',\n",
        "```"
      ]
    },
    {
      "cell_type": "markdown",
      "metadata": {
        "id": "ItNKE9hUHB4D",
        "colab_type": "text"
      },
      "source": [
        "### **GET**\n",
        "Metode GET digunakan untuk membaca data yang disediakan oleh REST API. Biasanya untuk membaca semua data atau data yang lebih spesifik seperti ID.\n",
        "\n",
        "Buat file controller baru dan beri nama **application/controllers/Kontak.php**.\n",
        "```\n",
        "<?php\n",
        "\n",
        "defined('BASEPATH') OR exit('No direct script access allowed');\n",
        "\n",
        "// Load library REST Server\n",
        "require APPPATH . '/libraries/REST_Controller.php';\n",
        "use Restserver\\Libraries\\REST_Controller;\n",
        "\n",
        "class Kontak extends REST_Controller {\n",
        "    function __construct($config='rest') {\n",
        "        parent::__construct($config);\n",
        "        $this->load->database();\n",
        "    }\n",
        "\n",
        "    // Menampilkan data kontak\n",
        "    function index_get() {\n",
        "        $id = $this->get('id');\n",
        "        \n",
        "        if($id == '') {\n",
        "            $kontak = $this->db->get('telepon')->result();\n",
        "        } else {\n",
        "            $this->db->where('id', $id);\n",
        "            $kontak = $this->db->get('telepon')->result();\n",
        "        }\n",
        "\n",
        "        $this->response(array('status' => 'OK', 'result' => $kontak, 'message' => 'Success'), 200);\n",
        "    }\n",
        "\n",
        "    // Kodingan selanjutnya\n",
        "}\n",
        "?>\n",
        "```"
      ]
    },
    {
      "cell_type": "markdown",
      "metadata": {
        "id": "670bwnheW0qP",
        "colab_type": "text"
      },
      "source": [
        "### **POST**\n",
        "Metode POST digunakan untuk menambahkan data. Lanjutkan kodingan selanjutnya dibawah fungsi **index_get()**.\n",
        "```\n",
        "// Mengirim atau menambah data telepon baru.\n",
        "function index_post() {\n",
        "    $data = array(\n",
        "        'id' => $this->post('id'),\n",
        "        'nama' => $this->post('nama'),\n",
        "        'nomor' => $this->post('nomor')\n",
        "    );\n",
        "\n",
        "    $insert = $this->db->insert('telepon', $data);\n",
        "    \n",
        "    if ($insert) {\n",
        "        $this->response($data, 200);\n",
        "    } else {\n",
        "        $this->response(array('status' => 'fail', 502));\n",
        "    }\n",
        "}\n",
        "```"
      ]
    },
    {
      "cell_type": "markdown",
      "metadata": {
        "id": "HFNezUFyYcaY",
        "colab_type": "text"
      },
      "source": [
        "### **PUT**\n",
        "Metode PUT digunakan untuk mengubah data berdasarkan ID. Lanjutkan kodingan selanjutnya dibawah fungsi **index_post()**.\n",
        "```\n",
        "// Mengubah data telepon yang sudah ada berdasarkan ID.\n",
        "function index_put() {\n",
        "    $id = $this->put('id');\n",
        "    \n",
        "    $data = array(\n",
        "        'id' => $this->put('id'),\n",
        "        'nama' => $this->put('nama'),\n",
        "        'nomor' => $this->put('nomor')\n",
        "    );\n",
        "\n",
        "    $this->db->where('id', $id);\n",
        "    $update = $this->db->update('telepon', $data);\n",
        "\n",
        "    if ($update) {\n",
        "        $this->response($data, 200);\n",
        "    } else {\n",
        "        $this->response(array('status' => 'fail', 502));\n",
        "    }\n",
        "}\n",
        "```"
      ]
    },
    {
      "cell_type": "markdown",
      "metadata": {
        "id": "uR_SbMXPatDD",
        "colab_type": "text"
      },
      "source": [
        "### **DELETE**\n",
        "Metode DELETE digunakan untuk menghapus data berdasarkan ID. Lanjutkan kodingan selanjutnya dibawah fungsi **index_put()**.\n",
        "```\n",
        "// Menghapus salah satu data telepon berdasarkan ID.\n",
        "function index_delete() {\n",
        "    $id = $this->delete('id');\n",
        "    \n",
        "    $this->db->where('id', $id);\n",
        "    $delete = $this->db->delete('telepon');\n",
        "    \n",
        "    if ($delete) {\n",
        "        $this->response(array('status' => 'success'), 201);\n",
        "    } else {\n",
        "        $this->response(array('status' => 'fail', 502));\n",
        "    }\n",
        "}\n",
        "```"
      ]
    },
    {
      "cell_type": "markdown",
      "metadata": {
        "id": "9CgnPlN3bouD",
        "colab_type": "text"
      },
      "source": [
        "Selesai, untuk mencobanya buka **Postman**. Seharusnya kodingan lengkap dari controller **Kontak.php** seperti dibawah ini.\n",
        "```\n",
        "<?php\n",
        "\n",
        "defined('BASEPATH') OR exit('No direct script access allowed');\n",
        "\n",
        "// Load library REST Server\n",
        "require APPPATH . '/libraries/REST_Controller.php';\n",
        "use Restserver\\Libraries\\REST_Controller;\n",
        "\n",
        "class Kontak extends REST_Controller {\n",
        "    function __construct($config='rest') {\n",
        "        parent::__construct($config);\n",
        "        $this->load->database();\n",
        "    }\n",
        "\n",
        "    //Menampilkan data kontak\n",
        "    function index_get() {\n",
        "        $id = $this->get('id');\n",
        "        \n",
        "        if($id == '') {\n",
        "            $kontak = $this->db->get('telepon')->result();\n",
        "        } else {\n",
        "            $this->db->where('id', $id);\n",
        "            $kontak = $this->db->get('telepon')->result();\n",
        "        }\n",
        "\n",
        "        $this->response(array('status' => 'OK', 'result' => $kontak, 'message' => 'Success'), 200);\n",
        "    }\n",
        "\n",
        "    // Mengirim atau menambah data telepon baru.\n",
        "    function index_post() {\n",
        "        $data = array(\n",
        "            'id' => $this->post('id'),\n",
        "            'nama' => $this->post('nama'),\n",
        "            'nomor' => $this->post('nomor')\n",
        "        );\n",
        "\n",
        "        $insert = $this->db->insert('telepon', $data);\n",
        "        \n",
        "        if ($insert) {\n",
        "            $this->response($data, 200);\n",
        "        } else {\n",
        "            $this->response(array('status' => 'fail', 502));\n",
        "        }\n",
        "    }\n",
        "\n",
        "    // Mengubah data telepon yang sudah ada berdasarkan ID.\n",
        "    function index_put() {\n",
        "        $id = $this->put('id');\n",
        "        \n",
        "        $data = array(\n",
        "            'id' => $this->put('id'),\n",
        "            'nama' => $this->put('nama'),\n",
        "            'nomor' => $this->put('nomor')\n",
        "        );\n",
        "\n",
        "        $this->db->where('id', $id);\n",
        "        $update = $this->db->update('telepon', $data);\n",
        "\n",
        "        if ($update) {\n",
        "            $this->response($data, 200);\n",
        "        } else {\n",
        "            $this->response(array('status' => 'fail', 502));\n",
        "        }\n",
        "    }\n",
        "\n",
        "    // Menghapus salah satu data telepon berdasarkan ID.\n",
        "    function index_delete() {\n",
        "        $id = $this->delete('id');\n",
        "        \n",
        "        $this->db->where('id', $id);\n",
        "        $delete = $this->db->delete('telepon');\n",
        "        \n",
        "        if ($delete) {\n",
        "            $this->response(array('status' => 'success'), 201);\n",
        "        } else {\n",
        "            $this->response(array('status' => 'fail', 502));\n",
        "        }\n",
        "    }\n",
        "}\n",
        "?>\n",
        "```"
      ]
    }
  ]
}