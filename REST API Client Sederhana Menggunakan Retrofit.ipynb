{
  "nbformat": 4,
  "nbformat_minor": 0,
  "metadata": {
    "colab": {
      "name": "Untitled2.ipynb",
      "provenance": []
    },
    "kernelspec": {
      "name": "python3",
      "display_name": "Python 3"
    }
  },
  "cells": [
    {
      "cell_type": "markdown",
      "metadata": {
        "id": "CmNwzzPigAvQ",
        "colab_type": "text"
      },
      "source": [
        "# **REST API Client Sederhana Menggunakan Retrofit**\n",
        "Untuk menerapkan REST API Client ini, pastikan Anda sudah mempunyai sebuah REST API Server. Tutorial membuat REST API Server dapat dilihat [disini](https://github.com/fuadhd/android/blob/master/Membuat%20REST%20API%20Server%20Menggunakan%20CodeIgniter.ipynb).\n",
        "## **Buat Proyek Baru**\n",
        "Buat proyek baru dan beri nama **Kontak**. Pilih versi android sesuai perangkat Anda. Pilih **Empty Activity**, lalu klik **Next**.\n",
        "### **Persiapan Awal**\n",
        "Buat 2 activity baru dengan nama **InsertActivity** dan **EditActivity**.\n",
        "\n",
        "Buat 3 package baru dengan nama **Adapter**, **Model**, dan **Rest**.\n",
        "### **Perbarui AndroidManifest.xml**\n",
        "Ijinkan aplikasi Anda untuk mengakses jaringan internet. Caranya dengan menambahkan kodingan dibawah ini sebelum tag **<application ...>**.\n",
        "```\n",
        "<uses-permission android:name=\"android.permission.INTERNET\" />\n",
        "```\n",
        "\n"
      ]
    }
  ]
}